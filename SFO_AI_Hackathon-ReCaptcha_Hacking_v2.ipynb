{
 "cells": [
  {
   "cell_type": "markdown",
   "id": "ecd754d1-0594-4c12-8fa9-8dc5817a0b1c",
   "metadata": {},
   "source": [
    "# SFO AI Hackathon - ReCaptcha Hacking"
   ]
  },
  {
   "cell_type": "code",
   "execution_count": null,
   "id": "9cef99c9-48ee-401e-93fe-dfe16bcda819",
   "metadata": {
    "tags": []
   },
   "outputs": [],
   "source": [
    "!pip install langchain -q"
   ]
  },
  {
   "cell_type": "code",
   "execution_count": null,
   "id": "9c812119-6d29-430b-9e3a-2919ed7ba7d9",
   "metadata": {
    "tags": []
   },
   "outputs": [],
   "source": [
    "!pip install transformers -q"
   ]
  },
  {
   "cell_type": "code",
   "execution_count": null,
   "id": "6fcec1c6-73b1-4475-9c3b-e3e0679c408a",
   "metadata": {
    "tags": []
   },
   "outputs": [],
   "source": [
    "!pip install chromadb -q"
   ]
  },
  {
   "cell_type": "code",
   "execution_count": null,
   "id": "8d15741c",
   "metadata": {},
   "outputs": [],
   "source": [
    "!pip install selenium -q\n",
    "!pip install Pillow"
   ]
  },
  {
   "cell_type": "code",
   "execution_count": null,
   "id": "f6ed6747",
   "metadata": {},
   "outputs": [],
   "source": [
    "from selenium import webdriver\n",
    "from selenium.webdriver.common.by import By\n",
    "import time"
   ]
  },
  {
   "cell_type": "code",
   "execution_count": null,
   "id": "469eac54-b5f3-400e-ac8f-9e4f4300063f",
   "metadata": {
    "tags": []
   },
   "outputs": [],
   "source": [
    "#!pip3 install torch torchvision torchaudio"
   ]
  },
  {
   "cell_type": "code",
   "execution_count": null,
   "id": "ad0880c1-6bb0-40d0-9c42-287265a7d0b8",
   "metadata": {
    "tags": []
   },
   "outputs": [],
   "source": [
    "from langchain.document_loaders import ImageCaptionLoader"
   ]
  },
  {
   "cell_type": "code",
   "execution_count": null,
   "id": "88feabee",
   "metadata": {},
   "outputs": [],
   "source": [
    "# Initialize the web driver (in this case, Chrome)\n",
    "driver = webdriver.Chrome()\n",
    "\n",
    "# Navigate to a webpage\n",
    "driver.get('https://www.google.com/recaptcha/api/fallback?k=6LdAvUIUAAAAAHjrjmjtNTcXyKm0WKwefLp-dQv9')\n",
    "\n",
    "# Find Caption Text\n",
    "caption_text = driver.find_element(By.CLASS_NAME, 'fbc-imageselect-message-without-candidate-image').text\n",
    "\n",
    "print(caption_text)\n",
    "\n",
    "captcha_image = driver.find_element(By.CLASS_NAME, 'fbc-imageselect-payload').get_attribute('src')\n",
    "print(captcha_image)"
   ]
  },
  {
   "cell_type": "code",
   "execution_count": null,
   "id": "206e7d2a",
   "metadata": {},
   "outputs": [],
   "source": [
    "\n",
    "# Split image into individual images\n",
    "# input into langchain to match again caption_text\n",
    "# automate checkbox selection and submit form\n",
    "\n",
    "# checkbox_1 = driver.find_element(By.CLASS_NAME, \"fbc-imageselect-checkbox-1\").click()\n",
    "\n",
    "from PIL import Image\n",
    "import requests\n",
    "# Open the original image\n",
    "# https://www.google.com/recaptcha/api2/payload?c=03AFcWeA7HuqHsAZlvSjs0B-VNmP-FoTak4rOkHfGMpXusMLV5RBJ1c11xY61HNYbQGQ91-0IfbaNTmZ0iKGVXnMIvTH1hO0SUYnpcJAYryF4ho-8juIi7ntUl811-Hq3Zjw5nPyskZd_20UeC5YgWoPM6Rs6580QbaBRmIB7tssjLZ0FxDFuJ-Zvpf5XMuz7DF7wOeN64JtxOoNyKF56i8iHZtPEWsBHkCA8NQGZvmQxiVcYuZwVtNUS7t7bLny3GaNyBzZhgWSgUnVpvxKuuYP1tPIqpbZgBbz9No26YKdqkoHeiFRk_56JOaM0p2DczA6jEq3K-nzpXvYss9Ax2ooVHjrv8PalwV6co4JN-jQc0b0VtZg5vne8id7lLfUXSdvG6QgN61PbpSXAsT6UnmjIyEk5RuJSmjnuwQc-NVlHf9Pm2kEpU4YUgbQp-mw3ZWWvomF-Osn2mofJzdt-KJKbhgUc87x4ZlKDgrsGaPSgPKBYZS5jSUDN7MfEqf1IWiBjzDjaUlBiFiIXOXXE3kvz9f_AuesG3huNPYwH8a_qcT4qVBvyTe85KJQSMqkhg_ICNjw9wj61VQ059-cLDqGErdzYsjXfu-0YcE1Csd5EY0PVLeelaYgPjncpxt6Vsb6UIKmGFD9_dKcYZQ6HMnXj7_T4tRom_cFbbj-vIJs4mTlseb5FlIMraqx6O5VVW2Yprnn6ifgQ-AIIMMKyB0yy02dln-9r19SH3QJEl6faoLn6_FYfxeeJ33kgxFcqDwSfF1joxBYQbg_K4WlXWC2pqZhYEUk-J9DZQXfyj7spYMX0qOqBGeCB93ut8kr6SizZ8wivKIiRGO4SkB2-hQXCYJPfmCbQPrqb_2bTlbTdZJbdd8excOh-g6Fvu7Jx8PO4ukjsMbI4pRX93Xl_X8iCAN0Ko7hShUYNot7jxAc1iIGReUtipyH6lkTHhbSTKfLffb_fj_4FQQREO_O7CBHwyz7KKwboKfDOBmddQMZnDWzBvZJjaXYw_MQpupwmz8zvwnF8c4jZy6zhYuS6XDSADZ7YX03y8Xnd2vI-U7uRSmnHDDYnnrEhnLfzkJ4ASmqpqLhRtDVTUdSUZn8JWJmGEbJZaHhigY3DLKSbAVCM_V4UrxkoV45hIWdqbW7avlm5yTipOObYrgGIRMTOPAP2OX79UeMdNrAkv9V8WvpZKvEkbv7lQYAVuY1qU6ljYZ7KGzX7ksrMRaqTbPx2n88spZmK0zP0pHYVLGnhJGGxP7fK5oRbvkcs-3RSCpTsP2WqsdWUyWePJzsOZlX6RtipX91sxow0rZqCMsCxflaMC9a2VGfd7lslWNw8IU0nwM4H_b2E2rF_cezOkUI7KisxRtHf9gzGVYI6SrrUAprJZzmV0gfCapKvq6zKkgzSUYIeul1bxmcS12CGo19MT7X3697NQ_cQR6KMLNlGsIOdkwHsfKdDDFmA&k=6LdAvUIUAAAAAHjrjmjtNTcXyKm0WKwefLp-dQv9\n",
    "\n",
    "def download_image(url, save_path):\n",
    "    # Send a GET request to the image URL\n",
    "    response = requests.get(url, stream=True)\n",
    "    response.raise_for_status()\n",
    "\n",
    "    # Check if the request was successful and the content is an image\n",
    "    if response.status_code == 200 and 'image' in response.headers['Content-Type']:\n",
    "        # Save the image to the specified path\n",
    "        with open(save_path, 'wb') as file:\n",
    "            for chunk in response.iter_content(chunk_size=8192):\n",
    "                file.write(chunk)\n",
    "    else:\n",
    "        print(\"Failed to download the image.\")\n",
    "\n",
    "local_path = \"captcha_image.jpg\"\n",
    "download_image(captcha_image, local_path)\n",
    "\n",
    "original_image = Image.open(local_path)\n",
    "\n",
    "# Get the dimensions of the smaller images\n",
    "smaller_image_width = original_image.width // 3\n",
    "smaller_image_height = original_image.height // 3\n",
    "\n",
    "# Loop through the rows and columns\n",
    "for i in range(3):\n",
    "    for j in range(3):\n",
    "        # Define the coordinates of the smaller image\n",
    "        left = j * smaller_image_width\n",
    "        top = i * smaller_image_height\n",
    "        right = (j + 1) * smaller_image_width\n",
    "        bottom = (i + 1) * smaller_image_height\n",
    "        \n",
    "        # Crop the smaller image\n",
    "        smaller_image = original_image.crop((left, top, right, bottom))\n",
    "        \n",
    "        # Save the smaller image\n",
    "        smaller_image.save(f\"output_image_{i}_{j}.jpg\")\n",
    "\n",
    "print(\"Images saved successfully.\")\n",
    "\n",
    "\n",
    "# # Find and click the search button\n",
    "# search_button = driver.find_element_by_name('btnK')\n",
    "# search_button.click()\n",
    "\n",
    "# # Close the browser\n",
    "# driver.quit()\n",
    "time.sleep(2)"
   ]
  },
  {
   "cell_type": "code",
   "execution_count": null,
   "id": "a2f5f27c-cdc8-4f66-a56e-ab5786c231d0",
   "metadata": {
    "tags": []
   },
   "outputs": [],
   "source": [
    "import os\n",
    "\n",
    "# Get the current working directory\n",
    "current_dir = os.getcwd()\n",
    "\n",
    "# List all files and directories in the current directory\n",
    "files = os.listdir(current_dir)\n",
    "\n",
    "# Filter out any non-image files\n",
    "images = []\n",
    "for file in files:\n",
    "    if file.endswith(\".jpg\") or file.endswith(\".jpeg\"):\n",
    "        images.append(file)\n",
    "\n",
    "print(\"Images found:\", len(images))"
   ]
  },
  {
   "cell_type": "code",
   "execution_count": null,
   "id": "994aad94-49f0-4627-a361-ae183de72214",
   "metadata": {
    "tags": []
   },
   "outputs": [],
   "source": [
    "images"
   ]
  },
  {
   "cell_type": "markdown",
   "id": "b5f46832-20db-40a7-8e54-c8e113fc162e",
   "metadata": {},
   "source": [
    "## Image Captioning using LangChain Image captions\n",
    "# Salesforce BLIP image captioning model"
   ]
  },
  {
   "cell_type": "code",
   "execution_count": null,
   "id": "3ae00b3d-7d23-4a08-a299-ef5d80ddbd31",
   "metadata": {
    "tags": []
   },
   "outputs": [],
   "source": [
    "loader = ImageCaptionLoader(images=images)\n",
    "list_docs = loader.load()\n",
    "list_docs"
   ]
  },
  {
   "cell_type": "markdown",
   "id": "5103d0ea-9cd8-4fb6-9955-65ce755d8080",
   "metadata": {
    "tags": []
   },
   "source": [
    "## Amazon Bedrock LLM and Embeddings"
   ]
  },
  {
   "cell_type": "code",
   "execution_count": null,
   "id": "80a49d8a-7904-4f4e-9ee2-2ee74c9c5e47",
   "metadata": {
    "tags": []
   },
   "outputs": [],
   "source": [
    "# Amazon Bedrock - boto3\n",
    "import boto3\n",
    "\n",
    "# Setup bedrock\n",
    "bedrock_runtime = boto3.client(\n",
    "    service_name=\"bedrock-runtime\",\n",
    "    region_name=\"us-east-1\",\n",
    ")\n",
    "# LLM - Amazon Bedrock LLM using LangChain\n",
    "from langchain.llms import Bedrock\n",
    "model_id = \"anthropic.claude-v2\"\n",
    "model_kwargs =  { \n",
    "    \"max_tokens_to_sample\": 4096,\n",
    "    \"temperature\": 0.6,\n",
    "    \"top_k\": 250,\n",
    "    \"top_p\": 1,\n",
    "    \"stop_sequences\": [\n",
    "      \"\\n\\nHuman:\"\n",
    "    ],\n",
    "}\n",
    "llm = Bedrock(\n",
    "    client=bedrock_runtime,\n",
    "    model_id=model_id,\n",
    "    model_kwargs=model_kwargs\n",
    ")\n",
    "# Embeddings Model - Amazon Titan Embeddings Model using LangChain\n",
    "from langchain.embeddings import BedrockEmbeddings\n",
    "# create embeddings\n",
    "bedrock_embedding = BedrockEmbeddings(\n",
    "    client=bedrock_runtime,\n",
    "    model_id=\"amazon.titan-embed-text-v1\",\n",
    ")"
   ]
  },
  {
   "cell_type": "markdown",
   "id": "20756f27-c26e-43b5-b24f-19e9bc7142f1",
   "metadata": {},
   "source": [
    "## Print image captions"
   ]
  },
  {
   "cell_type": "code",
   "execution_count": null,
   "id": "68656a33-a8e4-45be-8694-ba1d5492e820",
   "metadata": {
    "tags": []
   },
   "outputs": [],
   "source": [
    "for item in list_docs:\n",
    "    print(item.page_content)\n",
    "    print(item.metadata)"
   ]
  },
  {
   "cell_type": "markdown",
   "id": "8846656e-00f3-4738-8d6e-12c6889a4bde",
   "metadata": {},
   "source": [
    "## LangChain VectorStore using Chroma"
   ]
  },
  {
   "cell_type": "code",
   "execution_count": null,
   "id": "38b8f92b-ac3a-4de8-8e15-ab15d90954d2",
   "metadata": {
    "tags": []
   },
   "outputs": [],
   "source": [
    "from langchain.vectorstores import Chroma\n",
    "\n",
    "vectorstore = Chroma.from_documents(\n",
    "documents=list_docs,\n",
    "embedding=bedrock_embedding\n",
    ")"
   ]
  },
  {
   "cell_type": "markdown",
   "id": "1cae9255-1b8c-4b5f-99b1-1d024ed9743f",
   "metadata": {},
   "source": [
    "## Similarity Search with Score"
   ]
  },
  {
   "cell_type": "code",
   "execution_count": null,
   "id": "56dafd92-809e-43e6-b791-ddf82b339cb3",
   "metadata": {
    "tags": []
   },
   "outputs": [],
   "source": [
    "question = \"car\"\n",
    "docs = vectorstore.similarity_search_with_score(question, k=9)"
   ]
  },
  {
   "cell_type": "code",
   "execution_count": null,
   "id": "95cbe4a7-6624-4404-8004-ec89c08c5555",
   "metadata": {
    "tags": []
   },
   "outputs": [],
   "source": [
    "docs"
   ]
  },
  {
   "cell_type": "markdown",
   "id": "37ecfe3a-f8d4-432b-b86b-04d9c0d2366a",
   "metadata": {},
   "source": [
    "## Using LLM (Claude V2) to validate Similarity Search output"
   ]
  },
  {
   "cell_type": "code",
   "execution_count": null,
   "id": "25ae5f0c-301a-40cd-882f-d367a390f43a",
   "metadata": {
    "tags": []
   },
   "outputs": [],
   "source": [
    "question = \"car\"\n",
    "\n",
    "query = f\"\"\"\n",
    "\\n\\nHuman:\n",
    "You are a Capcha expert.\n",
    "\n",
    "Review the following context.\n",
    "<context>\n",
    "{docs}\n",
    "</context>\n",
    "\n",
    "Iterate each lines and provide output using the following template in json format:\n",
    "\n",
    "- image_path: image_path , match: say Yes when data contains {question}, if not say No. \n",
    "\n",
    "Assistant:\n",
    "\"\"\"\n",
    "response = llm.invoke(query)\n",
    "print(response)"
   ]
  },
  {
   "cell_type": "code",
   "execution_count": null,
   "id": "0106fc30-118d-4f4f-b28d-560e5942583a",
   "metadata": {},
   "outputs": [],
   "source": []
  }
 ],
 "metadata": {
  "kernelspec": {
   "display_name": "Python 3",
   "language": "python",
   "name": "python3"
  },
  "language_info": {
   "codemirror_mode": {
    "name": "ipython",
    "version": 3
   },
   "file_extension": ".py",
   "mimetype": "text/x-python",
   "name": "python",
   "nbconvert_exporter": "python",
   "pygments_lexer": "ipython3",
   "version": "3.11.3"
  }
 },
 "nbformat": 4,
 "nbformat_minor": 5
}
